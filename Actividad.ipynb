{
 "cells": [
  {
   "cell_type": "markdown",
   "metadata": {},
   "source": [
    "Grupo 6\n",
    "\n",
    "Deicy Santos\n",
    "David Gutierrez"
   ]
  },
  {
   "cell_type": "code",
   "execution_count": 1,
   "metadata": {},
   "outputs": [],
   "source": [
    "import numpy as  np \n",
    "import pandas as pd \n",
    "import matplotlib.pyplot as plt \n",
    "import seaborn as sns\n",
    "\n",
    "%matplotlib inline\n"
   ]
  },
  {
   "cell_type": "markdown",
   "metadata": {},
   "source": [
    "Para mostrar que el método mencionado en este artículo se puede aplicar a datos del mundo real, usaré datos de una Lista de países por producción de carbón en Wikipedia(https://en.wikipedia.org/wiki/List_of_countries_by_coal_production). Este artículo muestra una lista de estados y territorios soberanos por producción de carbón superior a 5 millones de toneladas a partir de 2020.\\\n",
    "Seguí los pasos útiles y prácticos para descargar los datos de Web Scraping a Wikipedia Table into a Dataframe. https://medium.com/analytics-vidhya/web-scraping-a-wikipedia-table-into-a-dataframe-c52617e1f451"
   ]
  },
  {
   "cell_type": "code",
   "execution_count": 2,
   "metadata": {},
   "outputs": [],
   "source": [
    "import pandas as pd # library for data analysis\n",
    "import requests # library to handle requests\n",
    "from bs4 import BeautifulSoup # library to parse HTML documents"
   ]
  },
  {
   "cell_type": "markdown",
   "metadata": {},
   "source": []
  },
  {
   "cell_type": "code",
   "execution_count": 3,
   "metadata": {},
   "outputs": [
    {
     "name": "stdout",
     "output_type": "stream",
     "text": [
      "200\n"
     ]
    }
   ],
   "source": [
    "import requests \n",
    "from bs4 import BeautifulSoup\n",
    "wikiurl='https://es.wikipedia.org/wiki/Anexo:Departamentos_de_Colombia_por_poblaci%C3%B3n'\n",
    "table_class='wikitable sortable jquery-tablesorter'\n",
    "\n",
    "response=requests.get(wikiurl)\n",
    "#status 200: The server successfully answered the http request \n",
    "print(response.status_code)"
   ]
  },
  {
   "cell_type": "markdown",
   "metadata": {},
   "source": [
    "Después de la descarga, analice los datos descargados con BeautifulSoup(https://www.crummy.com/software/BeautifulSoup/bs4/doc/)"
   ]
  },
  {
   "cell_type": "code",
   "execution_count": 4,
   "metadata": {},
   "outputs": [
    {
     "data": {
      "text/html": [
       "<div>\n",
       "<style scoped>\n",
       "    .dataframe tbody tr th:only-of-type {\n",
       "        vertical-align: middle;\n",
       "    }\n",
       "\n",
       "    .dataframe tbody tr th {\n",
       "        vertical-align: top;\n",
       "    }\n",
       "\n",
       "    .dataframe thead th {\n",
       "        text-align: right;\n",
       "    }\n",
       "</style>\n",
       "<table border=\"1\" class=\"dataframe\">\n",
       "  <thead>\n",
       "    <tr style=\"text-align: right;\">\n",
       "      <th></th>\n",
       "      <th>N.º</th>\n",
       "      <th>Departamento</th>\n",
       "      <th>Población Cabecera</th>\n",
       "      <th>Población Resto</th>\n",
       "      <th>Población Total</th>\n",
       "    </tr>\n",
       "  </thead>\n",
       "  <tbody>\n",
       "    <tr>\n",
       "      <th>0</th>\n",
       "      <td>1.0</td>\n",
       "      <td>Bogotá</td>\n",
       "      <td>7 715 778</td>\n",
       "      <td>28 177</td>\n",
       "      <td>7 743 955</td>\n",
       "    </tr>\n",
       "    <tr>\n",
       "      <th>1</th>\n",
       "      <td>2.0</td>\n",
       "      <td>Antioquia</td>\n",
       "      <td>5 281 409</td>\n",
       "      <td>1 396 521</td>\n",
       "      <td>6 677 930</td>\n",
       "    </tr>\n",
       "    <tr>\n",
       "      <th>2</th>\n",
       "      <td>3.0</td>\n",
       "      <td>Valle del Cauca</td>\n",
       "      <td>3 866 560</td>\n",
       "      <td>665 592</td>\n",
       "      <td>4 532 152</td>\n",
       "    </tr>\n",
       "    <tr>\n",
       "      <th>3</th>\n",
       "      <td>4.0</td>\n",
       "      <td>Cundinamarca</td>\n",
       "      <td>2 401 827</td>\n",
       "      <td>841 172</td>\n",
       "      <td>3 242 999</td>\n",
       "    </tr>\n",
       "    <tr>\n",
       "      <th>4</th>\n",
       "      <td>5.0</td>\n",
       "      <td>Atlántico</td>\n",
       "      <td>2 282 828</td>\n",
       "      <td>139 300</td>\n",
       "      <td>2 722 128</td>\n",
       "    </tr>\n",
       "    <tr>\n",
       "      <th>5</th>\n",
       "      <td>6.0</td>\n",
       "      <td>Santander</td>\n",
       "      <td>1 745 543</td>\n",
       "      <td>535 365</td>\n",
       "      <td>2 280 908</td>\n",
       "    </tr>\n",
       "    <tr>\n",
       "      <th>6</th>\n",
       "      <td>7.0</td>\n",
       "      <td>Bolívar</td>\n",
       "      <td>1 618 648</td>\n",
       "      <td>562 328</td>\n",
       "      <td>2 180 976</td>\n",
       "    </tr>\n",
       "    <tr>\n",
       "      <th>7</th>\n",
       "      <td>8.0</td>\n",
       "      <td>Córdoba</td>\n",
       "      <td>952 215</td>\n",
       "      <td>876 732</td>\n",
       "      <td>1 828 947</td>\n",
       "    </tr>\n",
       "    <tr>\n",
       "      <th>8</th>\n",
       "      <td>9.0</td>\n",
       "      <td>Nariño</td>\n",
       "      <td>713 629</td>\n",
       "      <td>913 960</td>\n",
       "      <td>1 627 589</td>\n",
       "    </tr>\n",
       "    <tr>\n",
       "      <th>9</th>\n",
       "      <td>10.0</td>\n",
       "      <td>Norte de Santander</td>\n",
       "      <td>1 282 673</td>\n",
       "      <td>337 645</td>\n",
       "      <td>1 620 318</td>\n",
       "    </tr>\n",
       "    <tr>\n",
       "      <th>10</th>\n",
       "      <td>11.0</td>\n",
       "      <td>Cauca</td>\n",
       "      <td>546 627</td>\n",
       "      <td>945 310</td>\n",
       "      <td>1 491 937</td>\n",
       "    </tr>\n",
       "    <tr>\n",
       "      <th>11</th>\n",
       "      <td>12.0</td>\n",
       "      <td>Magdalena</td>\n",
       "      <td>990 218</td>\n",
       "      <td>436 808</td>\n",
       "      <td>1 427 026</td>\n",
       "    </tr>\n",
       "    <tr>\n",
       "      <th>12</th>\n",
       "      <td>13.0</td>\n",
       "      <td>Tolima</td>\n",
       "      <td>919 228</td>\n",
       "      <td>420 770</td>\n",
       "      <td>1 339 998</td>\n",
       "    </tr>\n",
       "    <tr>\n",
       "      <th>13</th>\n",
       "      <td>14.0</td>\n",
       "      <td>Cesar</td>\n",
       "      <td>973 958</td>\n",
       "      <td>321 429</td>\n",
       "      <td>1 295 387</td>\n",
       "    </tr>\n",
       "    <tr>\n",
       "      <th>14</th>\n",
       "      <td>15.0</td>\n",
       "      <td>Boyacá</td>\n",
       "      <td>736 624</td>\n",
       "      <td>506 107</td>\n",
       "      <td>1 242 731</td>\n",
       "    </tr>\n",
       "    <tr>\n",
       "      <th>15</th>\n",
       "      <td>16.0</td>\n",
       "      <td>Huila</td>\n",
       "      <td>679 667</td>\n",
       "      <td>442 955</td>\n",
       "      <td>1 122 622</td>\n",
       "    </tr>\n",
       "    <tr>\n",
       "      <th>16</th>\n",
       "      <td>17.0</td>\n",
       "      <td>Meta</td>\n",
       "      <td>768 945</td>\n",
       "      <td>252 866</td>\n",
       "      <td>1 063 454</td>\n",
       "    </tr>\n",
       "    <tr>\n",
       "      <th>17</th>\n",
       "      <td>18.0</td>\n",
       "      <td>Caldas</td>\n",
       "      <td>740 865</td>\n",
       "      <td>249 508</td>\n",
       "      <td>1 018 453</td>\n",
       "    </tr>\n",
       "    <tr>\n",
       "      <th>18</th>\n",
       "      <td>19.0</td>\n",
       "      <td>La Guajira</td>\n",
       "      <td>473 082</td>\n",
       "      <td>492 636</td>\n",
       "      <td>965 718</td>\n",
       "    </tr>\n",
       "    <tr>\n",
       "      <th>19</th>\n",
       "      <td>20.0</td>\n",
       "      <td>Risaralda</td>\n",
       "      <td>762 433</td>\n",
       "      <td>198 622</td>\n",
       "      <td>961 055</td>\n",
       "    </tr>\n",
       "    <tr>\n",
       "      <th>20</th>\n",
       "      <td>21.0</td>\n",
       "      <td>Sucre</td>\n",
       "      <td>919 228</td>\n",
       "      <td>358 167</td>\n",
       "      <td>949 252</td>\n",
       "    </tr>\n",
       "    <tr>\n",
       "      <th>21</th>\n",
       "      <td>22.0</td>\n",
       "      <td>Quindío</td>\n",
       "      <td>488 246</td>\n",
       "      <td>67 155</td>\n",
       "      <td>555 401</td>\n",
       "    </tr>\n",
       "    <tr>\n",
       "      <th>22</th>\n",
       "      <td>23.0</td>\n",
       "      <td>Chocó</td>\n",
       "      <td>243 102</td>\n",
       "      <td>301 662</td>\n",
       "      <td>544 764</td>\n",
       "    </tr>\n",
       "    <tr>\n",
       "      <th>23</th>\n",
       "      <td>24.0</td>\n",
       "      <td>Casanare</td>\n",
       "      <td>309 971</td>\n",
       "      <td>125 224</td>\n",
       "      <td>435 195</td>\n",
       "    </tr>\n",
       "    <tr>\n",
       "      <th>24</th>\n",
       "      <td>25.0</td>\n",
       "      <td>Caquetá</td>\n",
       "      <td>267 010</td>\n",
       "      <td>143 511</td>\n",
       "      <td>410 521</td>\n",
       "    </tr>\n",
       "    <tr>\n",
       "      <th>25</th>\n",
       "      <td>26.0</td>\n",
       "      <td>Putumayo</td>\n",
       "      <td>182 286</td>\n",
       "      <td>176 841</td>\n",
       "      <td>359 127</td>\n",
       "    </tr>\n",
       "    <tr>\n",
       "      <th>26</th>\n",
       "      <td>27.0</td>\n",
       "      <td>Arauca</td>\n",
       "      <td>192 586</td>\n",
       "      <td>101 620</td>\n",
       "      <td>294 206</td>\n",
       "    </tr>\n",
       "    <tr>\n",
       "      <th>27</th>\n",
       "      <td>28.0</td>\n",
       "      <td>Vichada</td>\n",
       "      <td>27 709</td>\n",
       "      <td>85 249</td>\n",
       "      <td>112 958</td>\n",
       "    </tr>\n",
       "    <tr>\n",
       "      <th>28</th>\n",
       "      <td>29.0</td>\n",
       "      <td>Guaviare</td>\n",
       "      <td>48 719</td>\n",
       "      <td>37 938</td>\n",
       "      <td>86 657</td>\n",
       "    </tr>\n",
       "    <tr>\n",
       "      <th>29</th>\n",
       "      <td>30.0</td>\n",
       "      <td>Amazonas</td>\n",
       "      <td>38 977</td>\n",
       "      <td>40 043</td>\n",
       "      <td>79 020</td>\n",
       "    </tr>\n",
       "    <tr>\n",
       "      <th>30</th>\n",
       "      <td>31.0</td>\n",
       "      <td>San Andrés y Providencia</td>\n",
       "      <td>45 570</td>\n",
       "      <td>18 122</td>\n",
       "      <td>63 692</td>\n",
       "    </tr>\n",
       "    <tr>\n",
       "      <th>31</th>\n",
       "      <td>32.0</td>\n",
       "      <td>Guainía</td>\n",
       "      <td>23 251</td>\n",
       "      <td>27 385</td>\n",
       "      <td>50 636</td>\n",
       "    </tr>\n",
       "    <tr>\n",
       "      <th>32</th>\n",
       "      <td>33.0</td>\n",
       "      <td>Vaupés</td>\n",
       "      <td>12 947</td>\n",
       "      <td>31 765</td>\n",
       "      <td>44 712</td>\n",
       "    </tr>\n",
       "    <tr>\n",
       "      <th>33</th>\n",
       "      <td>NaN</td>\n",
       "      <td>Colombia</td>\n",
       "      <td>38 292 939</td>\n",
       "      <td>12 079 485</td>\n",
       "      <td>50 372 424</td>\n",
       "    </tr>\n",
       "  </tbody>\n",
       "</table>\n",
       "</div>"
      ],
      "text/plain": [
       "     N.º              Departamento Población Cabecera Población Resto  \\\n",
       "0    1.0                    Bogotá          7 715 778          28 177   \n",
       "1    2.0                 Antioquia          5 281 409       1 396 521   \n",
       "2    3.0           Valle del Cauca          3 866 560         665 592   \n",
       "3    4.0              Cundinamarca          2 401 827         841 172   \n",
       "4    5.0                 Atlántico          2 282 828         139 300   \n",
       "5    6.0                 Santander          1 745 543         535 365   \n",
       "6    7.0                   Bolívar          1 618 648         562 328   \n",
       "7    8.0                   Córdoba            952 215         876 732   \n",
       "8    9.0                    Nariño            713 629         913 960   \n",
       "9   10.0        Norte de Santander          1 282 673         337 645   \n",
       "10  11.0                     Cauca            546 627         945 310   \n",
       "11  12.0                 Magdalena            990 218         436 808   \n",
       "12  13.0                    Tolima            919 228         420 770   \n",
       "13  14.0                     Cesar            973 958         321 429   \n",
       "14  15.0                    Boyacá            736 624         506 107   \n",
       "15  16.0                     Huila            679 667         442 955   \n",
       "16  17.0                      Meta            768 945         252 866   \n",
       "17  18.0                    Caldas            740 865         249 508   \n",
       "18  19.0                La Guajira            473 082         492 636   \n",
       "19  20.0                 Risaralda            762 433         198 622   \n",
       "20  21.0                     Sucre            919 228         358 167   \n",
       "21  22.0                   Quindío            488 246          67 155   \n",
       "22  23.0                     Chocó            243 102         301 662   \n",
       "23  24.0                  Casanare            309 971         125 224   \n",
       "24  25.0                   Caquetá            267 010         143 511   \n",
       "25  26.0                  Putumayo            182 286         176 841   \n",
       "26  27.0                    Arauca            192 586         101 620   \n",
       "27  28.0                   Vichada             27 709          85 249   \n",
       "28  29.0                  Guaviare             48 719          37 938   \n",
       "29  30.0                  Amazonas             38 977          40 043   \n",
       "30  31.0  San Andrés y Providencia             45 570          18 122   \n",
       "31  32.0                   Guainía             23 251          27 385   \n",
       "32  33.0                    Vaupés             12 947          31 765   \n",
       "33   NaN                  Colombia         38 292 939      12 079 485   \n",
       "\n",
       "   Población Total  \n",
       "0        7 743 955  \n",
       "1        6 677 930  \n",
       "2        4 532 152  \n",
       "3        3 242 999  \n",
       "4        2 722 128  \n",
       "5        2 280 908  \n",
       "6        2 180 976  \n",
       "7        1 828 947  \n",
       "8        1 627 589  \n",
       "9        1 620 318  \n",
       "10       1 491 937  \n",
       "11       1 427 026  \n",
       "12       1 339 998  \n",
       "13       1 295 387  \n",
       "14       1 242 731  \n",
       "15       1 122 622  \n",
       "16       1 063 454  \n",
       "17       1 018 453  \n",
       "18         965 718  \n",
       "19         961 055  \n",
       "20         949 252  \n",
       "21         555 401  \n",
       "22         544 764  \n",
       "23         435 195  \n",
       "24         410 521  \n",
       "25         359 127  \n",
       "26         294 206  \n",
       "27         112 958  \n",
       "28          86 657  \n",
       "29          79 020  \n",
       "30          63 692  \n",
       "31          50 636  \n",
       "32          44 712  \n",
       "33      50 372 424  "
      ]
     },
     "execution_count": 4,
     "metadata": {},
     "output_type": "execute_result"
    }
   ],
   "source": [
    "soup = BeautifulSoup(response.text, 'html.parser')\n",
    "table = soup.find('table',{'class':\"wikitable\"})\n",
    "\n",
    "df_Deptos = pd.read_html(str(table))[0]\n",
    "df_Deptos"
   ]
  },
  {
   "cell_type": "markdown",
   "metadata": {},
   "source": [
    "En este artículo, seleccionaré algunos países europeos con la cantidad de producción de carbón en 2020. Por ejemplo, los países seleccionados son Rusia, Alemania, Polonia, República Checa, Ucrania, Rumania, Grecia y Bulgaria.\n",
    "\n",
    "Si desea seleccionar otros países o cambiar el año, no dude en modificar los códigos a continuación."
   ]
  },
  {
   "cell_type": "code",
   "execution_count": 5,
   "metadata": {},
   "outputs": [],
   "source": [
    "list_Depto = ['Atlántico','La Guajira', 'Cesar', 'Magdalena','Córdoba','Sucre','Bolívar']"
   ]
  },
  {
   "cell_type": "code",
   "execution_count": 6,
   "metadata": {},
   "outputs": [
    {
     "data": {
      "text/plain": [
       "['Atlántico',\n",
       " 'La Guajira',\n",
       " 'Cesar',\n",
       " 'Magdalena',\n",
       " 'Córdoba',\n",
       " 'Sucre',\n",
       " 'Bolívar']"
      ]
     },
     "execution_count": 6,
     "metadata": {},
     "output_type": "execute_result"
    }
   ],
   "source": [
    "list_Depto"
   ]
  },
  {
   "cell_type": "code",
   "execution_count": 7,
   "metadata": {},
   "outputs": [
    {
     "data": {
      "text/html": [
       "<div>\n",
       "<style scoped>\n",
       "    .dataframe tbody tr th:only-of-type {\n",
       "        vertical-align: middle;\n",
       "    }\n",
       "\n",
       "    .dataframe tbody tr th {\n",
       "        vertical-align: top;\n",
       "    }\n",
       "\n",
       "    .dataframe thead th {\n",
       "        text-align: right;\n",
       "    }\n",
       "</style>\n",
       "<table border=\"1\" class=\"dataframe\">\n",
       "  <thead>\n",
       "    <tr style=\"text-align: right;\">\n",
       "      <th></th>\n",
       "      <th>Departamento</th>\n",
       "      <th>Pob_Total</th>\n",
       "    </tr>\n",
       "  </thead>\n",
       "  <tbody>\n",
       "    <tr>\n",
       "      <th>0</th>\n",
       "      <td>Atlántico</td>\n",
       "      <td>2 722 128</td>\n",
       "    </tr>\n",
       "    <tr>\n",
       "      <th>1</th>\n",
       "      <td>Bolívar</td>\n",
       "      <td>2 180 976</td>\n",
       "    </tr>\n",
       "    <tr>\n",
       "      <th>2</th>\n",
       "      <td>Córdoba</td>\n",
       "      <td>1 828 947</td>\n",
       "    </tr>\n",
       "    <tr>\n",
       "      <th>3</th>\n",
       "      <td>Magdalena</td>\n",
       "      <td>1 427 026</td>\n",
       "    </tr>\n",
       "    <tr>\n",
       "      <th>4</th>\n",
       "      <td>Cesar</td>\n",
       "      <td>1 295 387</td>\n",
       "    </tr>\n",
       "    <tr>\n",
       "      <th>5</th>\n",
       "      <td>La Guajira</td>\n",
       "      <td>965 718</td>\n",
       "    </tr>\n",
       "    <tr>\n",
       "      <th>6</th>\n",
       "      <td>Sucre</td>\n",
       "      <td>949 252</td>\n",
       "    </tr>\n",
       "  </tbody>\n",
       "</table>\n",
       "</div>"
      ],
      "text/plain": [
       "  Departamento  Pob_Total\n",
       "0    Atlántico  2 722 128\n",
       "1      Bolívar  2 180 976\n",
       "2      Córdoba  1 828 947\n",
       "3    Magdalena  1 427 026\n",
       "4        Cesar  1 295 387\n",
       "5   La Guajira    965 718\n",
       "6        Sucre    949 252"
      ]
     },
     "execution_count": 7,
     "metadata": {},
     "output_type": "execute_result"
    }
   ],
   "source": [
    "df_Depto_filtro = df_Deptos[df_Deptos['Departamento'].isin(list_Depto)]\n",
    "df_Depto_filtro = df_Depto_filtro.iloc[:,[1,4]]\n",
    "df_Depto_filtro.rename(columns={'Población Total':'Pob_Total'}, inplace=True)\n",
    "df_Depto_filtro.reset_index(drop=True, inplace=True)\n",
    "df_Depto_filtro"
   ]
  },
  {
   "cell_type": "code",
   "execution_count": 8,
   "metadata": {},
   "outputs": [
    {
     "data": {
      "text/html": [
       "<div>\n",
       "<style scoped>\n",
       "    .dataframe tbody tr th:only-of-type {\n",
       "        vertical-align: middle;\n",
       "    }\n",
       "\n",
       "    .dataframe tbody tr th {\n",
       "        vertical-align: top;\n",
       "    }\n",
       "\n",
       "    .dataframe thead th {\n",
       "        text-align: right;\n",
       "    }\n",
       "</style>\n",
       "<table border=\"1\" class=\"dataframe\">\n",
       "  <thead>\n",
       "    <tr style=\"text-align: right;\">\n",
       "      <th></th>\n",
       "      <th>Departamento</th>\n",
       "      <th>Pob_Total</th>\n",
       "    </tr>\n",
       "  </thead>\n",
       "  <tbody>\n",
       "    <tr>\n",
       "      <th>0</th>\n",
       "      <td>Atlántico</td>\n",
       "      <td>2722128</td>\n",
       "    </tr>\n",
       "    <tr>\n",
       "      <th>1</th>\n",
       "      <td>Bolívar</td>\n",
       "      <td>2180976</td>\n",
       "    </tr>\n",
       "    <tr>\n",
       "      <th>2</th>\n",
       "      <td>Córdoba</td>\n",
       "      <td>1828947</td>\n",
       "    </tr>\n",
       "    <tr>\n",
       "      <th>3</th>\n",
       "      <td>Magdalena</td>\n",
       "      <td>1427026</td>\n",
       "    </tr>\n",
       "    <tr>\n",
       "      <th>4</th>\n",
       "      <td>Cesar</td>\n",
       "      <td>1295387</td>\n",
       "    </tr>\n",
       "    <tr>\n",
       "      <th>5</th>\n",
       "      <td>La Guajira</td>\n",
       "      <td>965718</td>\n",
       "    </tr>\n",
       "    <tr>\n",
       "      <th>6</th>\n",
       "      <td>Sucre</td>\n",
       "      <td>949252</td>\n",
       "    </tr>\n",
       "  </tbody>\n",
       "</table>\n",
       "</div>"
      ],
      "text/plain": [
       "  Departamento  Pob_Total\n",
       "0    Atlántico    2722128\n",
       "1      Bolívar    2180976\n",
       "2      Córdoba    1828947\n",
       "3    Magdalena    1427026\n",
       "4        Cesar    1295387\n",
       "5   La Guajira     965718\n",
       "6        Sucre     949252"
      ]
     },
     "execution_count": 8,
     "metadata": {},
     "output_type": "execute_result"
    }
   ],
   "source": [
    "import re\n",
    "regex = re.compile(r'[^0-9]')\n",
    "df_Depto_filtro['Pob_Total'] = df_Depto_filtro['Pob_Total'].replace(regex,\"\").astype(int)\n",
    "df_Depto_filtro"
   ]
  },
  {
   "cell_type": "code",
   "execution_count": 9,
   "metadata": {},
   "outputs": [
    {
     "data": {
      "text/html": [
       "<div>\n",
       "<style scoped>\n",
       "    .dataframe tbody tr th:only-of-type {\n",
       "        vertical-align: middle;\n",
       "    }\n",
       "\n",
       "    .dataframe tbody tr th {\n",
       "        vertical-align: top;\n",
       "    }\n",
       "\n",
       "    .dataframe thead th {\n",
       "        text-align: right;\n",
       "    }\n",
       "</style>\n",
       "<table border=\"1\" class=\"dataframe\">\n",
       "  <thead>\n",
       "    <tr style=\"text-align: right;\">\n",
       "      <th></th>\n",
       "      <th>Departamento</th>\n",
       "      <th>Medida</th>\n",
       "      <th>Value</th>\n",
       "      <th>Percent</th>\n",
       "    </tr>\n",
       "  </thead>\n",
       "  <tbody>\n",
       "    <tr>\n",
       "      <th>0</th>\n",
       "      <td>Atlántico</td>\n",
       "      <td>Pob_Total</td>\n",
       "      <td>2722128</td>\n",
       "      <td>23.9</td>\n",
       "    </tr>\n",
       "    <tr>\n",
       "      <th>1</th>\n",
       "      <td>Bolívar</td>\n",
       "      <td>Pob_Total</td>\n",
       "      <td>2180976</td>\n",
       "      <td>19.2</td>\n",
       "    </tr>\n",
       "    <tr>\n",
       "      <th>2</th>\n",
       "      <td>Córdoba</td>\n",
       "      <td>Pob_Total</td>\n",
       "      <td>1828947</td>\n",
       "      <td>16.1</td>\n",
       "    </tr>\n",
       "    <tr>\n",
       "      <th>3</th>\n",
       "      <td>Magdalena</td>\n",
       "      <td>Pob_Total</td>\n",
       "      <td>1427026</td>\n",
       "      <td>12.6</td>\n",
       "    </tr>\n",
       "    <tr>\n",
       "      <th>4</th>\n",
       "      <td>Cesar</td>\n",
       "      <td>Pob_Total</td>\n",
       "      <td>1295387</td>\n",
       "      <td>11.4</td>\n",
       "    </tr>\n",
       "    <tr>\n",
       "      <th>5</th>\n",
       "      <td>La Guajira</td>\n",
       "      <td>Pob_Total</td>\n",
       "      <td>965718</td>\n",
       "      <td>8.5</td>\n",
       "    </tr>\n",
       "    <tr>\n",
       "      <th>6</th>\n",
       "      <td>Sucre</td>\n",
       "      <td>Pob_Total</td>\n",
       "      <td>949252</td>\n",
       "      <td>8.3</td>\n",
       "    </tr>\n",
       "  </tbody>\n",
       "</table>\n",
       "</div>"
      ],
      "text/plain": [
       "  Departamento     Medida    Value  Percent\n",
       "0    Atlántico  Pob_Total  2722128     23.9\n",
       "1      Bolívar  Pob_Total  2180976     19.2\n",
       "2      Córdoba  Pob_Total  1828947     16.1\n",
       "3    Magdalena  Pob_Total  1427026     12.6\n",
       "4        Cesar  Pob_Total  1295387     11.4\n",
       "5   La Guajira  Pob_Total   965718      8.5\n",
       "6        Sucre  Pob_Total   949252      8.3"
      ]
     },
     "execution_count": 9,
     "metadata": {},
     "output_type": "execute_result"
    }
   ],
   "source": [
    "df_Depto_filtro2 = pd.melt(df_Depto_filtro, id_vars=['Departamento'],\n",
    "                  value_vars='Pob_Total',\n",
    "                  var_name='Medida', value_name='Value')\n",
    "\n",
    "df_Depto_filtro2['Percent'] = [round(i*100/sum(df_Depto_filtro2.Value),1) for i in df_Depto_filtro2.Value]\n",
    "df_Depto_filtro2"
   ]
  },
  {
   "cell_type": "markdown",
   "metadata": {},
   "source": [
    "Antes de continuar, tracemos un gráfico circular para compararlo con el resultado obtenido en este artículo más adelante."
   ]
  },
  {
   "cell_type": "code",
   "execution_count": 10,
   "metadata": {},
   "outputs": [
    {
     "data": {
      "image/png": "[encoded data removed]",
      "text/plain": [
       "<Figure size 1000x1000 with 1 Axes>"
      ]
     },
     "metadata": {},
     "output_type": "display_data"
    }
   ],
   "source": [
    "#get a color list, palette name can be changed\n",
    "pal_ = list(sns.color_palette(palette='viridis',\n",
    "                              n_colors=len(list_Depto)).as_hex())\n",
    "#plot a pie chart\n",
    "plt.figure(figsize=(10, 10))\n",
    "plt.rcParams.update({'font.size': 16})\n",
    "plt.pie(df_Depto_filtro2.Value,\n",
    "        labels= df_Depto_filtro2.Departamento,\n",
    "        colors=pal_, autopct='%1.1f%%',\n",
    "        pctdistance=0.9)\n",
    "plt.legend(bbox_to_anchor=(1, 1), loc=2, frameon=False)\n",
    "plt.show()"
   ]
  },
  {
   "cell_type": "markdown",
   "metadata": {},
   "source": [
    "El gráfico circular muestra las proporciones de ciudadanos por cada departamento de la costa caribe colombiana."
   ]
  },
  {
   "cell_type": "markdown",
   "metadata": {},
   "source": [
    "Visualización de datos\n",
    "Este artículo cubrirá 9 visualizaciones para usar en lugar de un gráfico circular. Estas alternativas se pueden clasificar en dos grupos:\\\n",
    "\n",
    "#### Gráficos circulares\n",
    "\n",
    "* Gráfico con mancuernas (también conocido como gráfico con barra)\n",
    "* Gráfico de burbujas\n",
    "* Embalaje circular\n",
    "* Gráfico circular interactivo\n",
    "* Gráfico de anillos interactivo\\\n",
    "\\\n",
    "### Otras formas\n",
    "\n",
    "* Mapa de árbol\n",
    "* Gráfico de gofres\n",
    "* Gráfico de barras\n",
    "* Gráfico de barras apiladas"
   ]
  },
  {
   "cell_type": "markdown",
   "metadata": {},
   "source": [
    "### 1 Comparación de cada categoría con un gráfico con mancuernas (también conocido como gráfico con barra)\n",
    "\n",
    "Un gráfico con mancuernas es un gráfico para comparar dos puntos de datos. Como se mencionó anteriormente, comparar sectores en un gráfico circular puede ser difícil. Podemos hacer la comparación para cada categoría con un gráfico con mancuernas.\n",
    "\n",
    "Como su nombre, el gráfico con mancuernas consta de dos gráficos circulares unificados con una línea recta. Normalmente, el gráfico Dumbell se usa para comparar valores de datos. En este artículo, estableceremos el rango del eje X de 0 a 100 por ciento para mostrar los porcentajes de producción de carbón.\n",
    "\n",
    "Por ejemplo, podemos comparar países o mostrar el porcentaje de cada país en comparación con el resto. En primer lugar, crearemos otro DataFrame para aplicar con el gráfico con mancuernas."
   ]
  },
  {
   "cell_type": "code",
   "execution_count": 11,
   "metadata": {},
   "outputs": [
    {
     "name": "stderr",
     "output_type": "stream",
     "text": [
      "C:\\Users\\germa\\AppData\\Local\\Temp\\ipykernel_2164\\1663838585.py:2: SettingWithCopyWarning: \n",
      "A value is trying to be set on a copy of a slice from a DataFrame.\n",
      "Try using .loc[row_indexer,col_indexer] = value instead\n",
      "\n",
      "See the caveats in the documentation: https://pandas.pydata.org/pandas-docs/stable/user_guide/indexing.html#returning-a-view-versus-a-copy\n",
      "  df_select['Label_color'] = [i for i in df_Depto_filtro2['Departamento']]\n",
      "C:\\Users\\germa\\AppData\\Local\\Temp\\ipykernel_2164\\1663838585.py:5: SettingWithCopyWarning: \n",
      "A value is trying to be set on a copy of a slice from a DataFrame.\n",
      "Try using .loc[row_indexer,col_indexer] = value instead\n",
      "\n",
      "See the caveats in the documentation: https://pandas.pydata.org/pandas-docs/stable/user_guide/indexing.html#returning-a-view-versus-a-copy\n",
      "  df_coalmod['Percent'] = [100-i for i in df_Depto_filtro2['Percent']]\n",
      "C:\\Users\\germa\\AppData\\Local\\Temp\\ipykernel_2164\\1663838585.py:6: SettingWithCopyWarning: \n",
      "A value is trying to be set on a copy of a slice from a DataFrame.\n",
      "Try using .loc[row_indexer,col_indexer] = value instead\n",
      "\n",
      "See the caveats in the documentation: https://pandas.pydata.org/pandas-docs/stable/user_guide/indexing.html#returning-a-view-versus-a-copy\n",
      "  df_coalmod['Label_color'] = ['Other countries']*len(list_Depto)\n"
     ]
    },
    {
     "data": {
      "text/html": [
       "<div>\n",
       "<style scoped>\n",
       "    .dataframe tbody tr th:only-of-type {\n",
       "        vertical-align: middle;\n",
       "    }\n",
       "\n",
       "    .dataframe tbody tr th {\n",
       "        vertical-align: top;\n",
       "    }\n",
       "\n",
       "    .dataframe thead th {\n",
       "        text-align: right;\n",
       "    }\n",
       "</style>\n",
       "<table border=\"1\" class=\"dataframe\">\n",
       "  <thead>\n",
       "    <tr style=\"text-align: right;\">\n",
       "      <th></th>\n",
       "      <th>Departamento</th>\n",
       "      <th>Percent</th>\n",
       "      <th>Label_color</th>\n",
       "    </tr>\n",
       "  </thead>\n",
       "  <tbody>\n",
       "    <tr>\n",
       "      <th>0</th>\n",
       "      <td>Atlántico</td>\n",
       "      <td>23.9</td>\n",
       "      <td>Atlántico</td>\n",
       "    </tr>\n",
       "    <tr>\n",
       "      <th>1</th>\n",
       "      <td>Bolívar</td>\n",
       "      <td>19.2</td>\n",
       "      <td>Bolívar</td>\n",
       "    </tr>\n",
       "    <tr>\n",
       "      <th>2</th>\n",
       "      <td>Córdoba</td>\n",
       "      <td>16.1</td>\n",
       "      <td>Córdoba</td>\n",
       "    </tr>\n",
       "    <tr>\n",
       "      <th>3</th>\n",
       "      <td>Magdalena</td>\n",
       "      <td>12.6</td>\n",
       "      <td>Magdalena</td>\n",
       "    </tr>\n",
       "    <tr>\n",
       "      <th>4</th>\n",
       "      <td>Cesar</td>\n",
       "      <td>11.4</td>\n",
       "      <td>Cesar</td>\n",
       "    </tr>\n",
       "    <tr>\n",
       "      <th>5</th>\n",
       "      <td>La Guajira</td>\n",
       "      <td>8.5</td>\n",
       "      <td>La Guajira</td>\n",
       "    </tr>\n",
       "    <tr>\n",
       "      <th>6</th>\n",
       "      <td>Sucre</td>\n",
       "      <td>8.3</td>\n",
       "      <td>Sucre</td>\n",
       "    </tr>\n",
       "    <tr>\n",
       "      <th>0</th>\n",
       "      <td>Atlántico</td>\n",
       "      <td>76.1</td>\n",
       "      <td>Other countries</td>\n",
       "    </tr>\n",
       "    <tr>\n",
       "      <th>1</th>\n",
       "      <td>Bolívar</td>\n",
       "      <td>80.8</td>\n",
       "      <td>Other countries</td>\n",
       "    </tr>\n",
       "    <tr>\n",
       "      <th>2</th>\n",
       "      <td>Córdoba</td>\n",
       "      <td>83.9</td>\n",
       "      <td>Other countries</td>\n",
       "    </tr>\n",
       "    <tr>\n",
       "      <th>3</th>\n",
       "      <td>Magdalena</td>\n",
       "      <td>87.4</td>\n",
       "      <td>Other countries</td>\n",
       "    </tr>\n",
       "    <tr>\n",
       "      <th>4</th>\n",
       "      <td>Cesar</td>\n",
       "      <td>88.6</td>\n",
       "      <td>Other countries</td>\n",
       "    </tr>\n",
       "    <tr>\n",
       "      <th>5</th>\n",
       "      <td>La Guajira</td>\n",
       "      <td>91.5</td>\n",
       "      <td>Other countries</td>\n",
       "    </tr>\n",
       "    <tr>\n",
       "      <th>6</th>\n",
       "      <td>Sucre</td>\n",
       "      <td>91.7</td>\n",
       "      <td>Other countries</td>\n",
       "    </tr>\n",
       "  </tbody>\n",
       "</table>\n",
       "</div>"
      ],
      "text/plain": [
       "  Departamento  Percent      Label_color\n",
       "0    Atlántico     23.9        Atlántico\n",
       "1      Bolívar     19.2          Bolívar\n",
       "2      Córdoba     16.1          Córdoba\n",
       "3    Magdalena     12.6        Magdalena\n",
       "4        Cesar     11.4            Cesar\n",
       "5   La Guajira      8.5       La Guajira\n",
       "6        Sucre      8.3            Sucre\n",
       "0    Atlántico     76.1  Other countries\n",
       "1      Bolívar     80.8  Other countries\n",
       "2      Córdoba     83.9  Other countries\n",
       "3    Magdalena     87.4  Other countries\n",
       "4        Cesar     88.6  Other countries\n",
       "5   La Guajira     91.5  Other countries\n",
       "6        Sucre     91.7  Other countries"
      ]
     },
     "execution_count": 11,
     "metadata": {},
     "output_type": "execute_result"
    }
   ],
   "source": [
    "df_select = df_Depto_filtro2[['Departamento', 'Percent']]\n",
    "df_select['Label_color'] = [i for i in df_Depto_filtro2['Departamento']]\n",
    "\n",
    "df_coalmod = df_Depto_filtro2[['Departamento']]\n",
    "df_coalmod['Percent'] = [100-i for i in df_Depto_filtro2['Percent']]\n",
    "df_coalmod['Label_color'] = ['Other countries']*len(list_Depto)\n",
    "\n",
    "df_db = pd.concat([df_select, df_coalmod],axis=0)\n",
    "df_db"
   ]
  },
  {
   "cell_type": "code",
   "execution_count": 12,
   "metadata": {},
   "outputs": [
    {
     "name": "stderr",
     "output_type": "stream",
     "text": [
      "C:\\Users\\germa\\AppData\\Local\\Temp\\ipykernel_2164\\2065382087.py:8: SettingWithCopyWarning: \n",
      "A value is trying to be set on a copy of a slice from a DataFrame.\n",
      "Try using .loc[row_indexer,col_indexer] = value instead\n",
      "\n",
      "See the caveats in the documentation: https://pandas.pydata.org/pandas-docs/stable/user_guide/indexing.html#returning-a-view-versus-a-copy\n",
      "  df_['Y'] = [1]*len(df_)\n"
     ]
    },
    {
     "data": {
      "application/vnd.plotly.v1+json": {
       "config": {
        "plotlyServerURL": "https://plot.ly"
       },
       "data": [
        {
         "hovertemplate": "Label_color=Atlántico<br>Percent=%{x}<br>Y=%{y}<br>text=%{text}<extra></extra>",
         "legendgroup": "Atlántico",
         "marker": {
          "color": "#472d7b",
          "opacity": 1,
          "size": 65,
          "symbol": "circle"
         },
         "mode": "markers+text",
         "name": "Atlántico",
         "orientation": "v",
         "showlegend": true,
         "text": [
          "23.9 %"
         ],
         "textfont": {
          "color": "black"
         },
         "textposition": "top center",
         "type": "scatter",
         "x": [
          23.9
         ],
         "xaxis": "x",
         "y": [
          1
         ],
         "yaxis": "y"
        },
        {
         "hovertemplate": "Label_color=Bolívar<br>Percent=%{x}<br>Y=%{y}<br>text=%{text}<extra></extra>",
         "legendgroup": "Bolívar",
         "marker": {
          "color": "#addc30",
          "opacity": 1,
          "size": 65,
          "symbol": "circle"
         },
         "mode": "markers+text",
         "name": "Bolívar",
         "orientation": "v",
         "showlegend": true,
         "text": [
          "19.2 %"
         ],
         "textfont": {
          "color": "black"
         },
         "textposition": "top center",
         "type": "scatter",
         "x": [
          19.2
         ],
         "xaxis": "x",
         "y": [
          1
         ],
         "yaxis": "y"
        }
       ],
       "layout": {
        "height": 300,
        "legend": {
         "title": {
          "text": "Countries"
         },
         "tracegroupgap": 0
        },
        "margin": {
         "b": 20,
         "l": 20,
         "r": 20,
         "t": 40
        },
        "plot_bgcolor": "white",
        "shapes": [
         {
          "layer": "below",
          "line": {
           "color": "black",
           "width": 6
          },
          "type": "line",
          "x0": 23.9,
          "x1": 19.2,
          "y0": 1,
          "y1": 1
         },
         {
          "layer": "below",
          "line": {
           "color": "black",
           "width": 6
          },
          "type": "line",
          "x0": 23.9,
          "x1": 19.2,
          "y0": 1,
          "y1": 1
         },
         {
          "layer": "below",
          "line": {
           "color": "black",
           "width": 6
          },
          "type": "line",
          "x0": 23.9,
          "x1": 19.2,
          "y0": 1,
          "y1": 1
         },
         {
          "layer": "below",
          "line": {
           "color": "black",
           "width": 6
          },
          "type": "line",
          "x0": 23.9,
          "x1": 19.2,
          "y0": 1,
          "y1": 1
         },
         {
          "layer": "below",
          "line": {
           "color": "black",
           "width": 6
          },
          "type": "line",
          "x0": 23.9,
          "x1": 19.2,
          "y0": 1,
          "y1": 1
         },
         {
          "layer": "below",
          "line": {
           "color": "black",
           "width": 6
          },
          "type": "line",
          "x0": 23.9,
          "x1": 19.2,
          "y0": 1,
          "y1": 1
         },
         {
          "layer": "below",
          "line": {
           "color": "black",
           "width": 6
          },
          "type": "line",
          "x0": 23.9,
          "x1": 19.2,
          "y0": 1,
          "y1": 1
         }
        ],
        "showlegend": true,
        "template": {
         "data": {
          "bar": [
           {
            "error_x": {
             "color": "#2a3f5f"
            },
            "error_y": {
             "color": "#2a3f5f"
            },
            "marker": {
             "line": {
              "color": "#E5ECF6",
              "width": 0.5
             },
             "pattern": {
              "fillmode": "overlay",
              "size": 10,
              "solidity": 0.2
             }
            },
            "type": "bar"
           }
          ],
          "barpolar": [
           {
            "marker": {
             "line": {
              "color": "#E5ECF6",
              "width": 0.5
             },
             "pattern": {
              "fillmode": "overlay",
              "size": 10,
              "solidity": 0.2
             }
            },
            "type": "barpolar"
           }
          ],
          "carpet": [
           {
            "aaxis": {
             "endlinecolor": "#2a3f5f",
             "gridcolor": "white",
             "linecolor": "white",
             "minorgridcolor": "white",
             "startlinecolor": "#2a3f5f"
            },
            "baxis": {
             "endlinecolor": "#2a3f5f",
             "gridcolor": "white",
             "linecolor": "white",
             "minorgridcolor": "white",
             "startlinecolor": "#2a3f5f"
            },
            "type": "carpet"
           }
          ],
          "choropleth": [
           {
            "colorbar": {
             "outlinewidth": 0,
             "ticks": ""
            },
            "type": "choropleth"
           }
          ],
          "contour": [
           {
            "colorbar": {
             "outlinewidth": 0,
             "ticks": ""
            },
            "colorscale": [
             [
              0,
              "#0d0887"
             ],
             [
              0.1111111111111111,
              "#46039f"
             ],
             [
              0.2222222222222222,
              "#7201a8"
             ],
             [
              0.3333333333333333,
              "#9c179e"
             ],
             [
              0.4444444444444444,
              "#bd3786"
             ],
             [
              0.5555555555555556,
              "#d8576b"
             ],
             [
              0.6666666666666666,
              "#ed7953"
             ],
             [
              0.7777777777777778,
              "#fb9f3a"
             ],
             [
              0.8888888888888888,
              "#fdca26"
             ],
             [
              1,
              "#f0f921"
             ]
            ],
            "type": "contour"
           }
          ],
          "contourcarpet": [
           {
            "colorbar": {
             "outlinewidth": 0,
             "ticks": ""
            },
            "type": "contourcarpet"
           }
          ],
          "heatmap": [
           {
            "colorbar": {
             "outlinewidth": 0,
             "ticks": ""
            },
            "colorscale": [
             [
              0,
              "#0d0887"
             ],
             [
              0.1111111111111111,
              "#46039f"
             ],
             [
              0.2222222222222222,
              "#7201a8"
             ],
             [
              0.3333333333333333,
              "#9c179e"
             ],
             [
              0.4444444444444444,
              "#bd3786"
             ],
             [
              0.5555555555555556,
              "#d8576b"
             ],
             [
              0.6666666666666666,
              "#ed7953"
             ],
             [
              0.7777777777777778,
              "#fb9f3a"
             ],
             [
              0.8888888888888888,
              "#fdca26"
             ],
             [
              1,
              "#f0f921"
             ]
            ],
            "type": "heatmap"
           }
          ],
          "heatmapgl": [
           {
            "colorbar": {
             "outlinewidth": 0,
             "ticks": ""
            },
            "colorscale": [
             [
              0,
              "#0d0887"
             ],
             [
              0.1111111111111111,
              "#46039f"
             ],
             [
              0.2222222222222222,
              "#7201a8"
             ],
             [
              0.3333333333333333,
              "#9c179e"
             ],
             [
              0.4444444444444444,
              "#bd3786"
             ],
             [
              0.5555555555555556,
              "#d8576b"
             ],
             [
              0.6666666666666666,
              "#ed7953"
             ],
             [
              0.7777777777777778,
              "#fb9f3a"
             ],
             [
              0.8888888888888888,
              "#fdca26"
             ],
             [
              1,
              "#f0f921"
             ]
            ],
            "type": "heatmapgl"
           }
          ],
          "histogram": [
           {
            "marker": {
             "pattern": {
              "fillmode": "overlay",
              "size": 10,
              "solidity": 0.2
             }
            },
            "type": "histogram"
           }
          ],
          "histogram2d": [
           {
            "colorbar": {
             "outlinewidth": 0,
             "ticks": ""
            },
            "colorscale": [
             [
              0,
              "#0d0887"
             ],
             [
              0.1111111111111111,
              "#46039f"
             ],
             [
              0.2222222222222222,
              "#7201a8"
             ],
             [
              0.3333333333333333,
              "#9c179e"
             ],
             [
              0.4444444444444444,
              "#bd3786"
             ],
             [
              0.5555555555555556,
              "#d8576b"
             ],
             [
              0.6666666666666666,
              "#ed7953"
             ],
             [
              0.7777777777777778,
              "#fb9f3a"
             ],
             [
              0.8888888888888888,
              "#fdca26"
             ],
             [
              1,
              "#f0f921"
             ]
            ],
            "type": "histogram2d"
           }
          ],
          "histogram2dcontour": [
           {
            "colorbar": {
             "outlinewidth": 0,
             "ticks": ""
            },
            "colorscale": [
             [
              0,
              "#0d0887"
             ],
             [
              0.1111111111111111,
              "#46039f"
             ],
             [
              0.2222222222222222,
              "#7201a8"
             ],
             [
              0.3333333333333333,
              "#9c179e"
             ],
             [
              0.4444444444444444,
              "#bd3786"
             ],
             [
              0.5555555555555556,
              "#d8576b"
             ],
             [
              0.6666666666666666,
              "#ed7953"
             ],
             [
              0.7777777777777778,
              "#fb9f3a"
             ],
             [
              0.8888888888888888,
              "#fdca26"
             ],
             [
              1,
              "#f0f921"
             ]
            ],
            "type": "histogram2dcontour"
           }
          ],
          "mesh3d": [
           {
            "colorbar": {
             "outlinewidth": 0,
             "ticks": ""
            },
            "type": "mesh3d"
           }
          ],
          "parcoords": [
           {
            "line": {
             "colorbar": {
              "outlinewidth": 0,
              "ticks": ""
             }
            },
            "type": "parcoords"
           }
          ],
          "pie": [
           {
            "automargin": true,
            "type": "pie"
           }
          ],
          "scatter": [
           {
            "fillpattern": {
             "fillmode": "overlay",
             "size": 10,
             "solidity": 0.2
            },
            "type": "scatter"
           }
          ],
          "scatter3d": [
           {
            "line": {
             "colorbar": {
              "outlinewidth": 0,
              "ticks": ""
             }
            },
            "marker": {
             "colorbar": {
              "outlinewidth": 0,
              "ticks": ""
             }
            },
            "type": "scatter3d"
           }
          ],
          "scattercarpet": [
           {
            "marker": {
             "colorbar": {
              "outlinewidth": 0,
              "ticks": ""
             }
            },
            "type": "scattercarpet"
           }
          ],
          "scattergeo": [
           {
            "marker": {
             "colorbar": {
              "outlinewidth": 0,
              "ticks": ""
             }
            },
            "type": "scattergeo"
           }
          ],
          "scattergl": [
           {
            "marker": {
             "colorbar": {
              "outlinewidth": 0,
              "ticks": ""
             }
            },
            "type": "scattergl"
           }
          ],
          "scattermapbox": [
           {
            "marker": {
             "colorbar": {
              "outlinewidth": 0,
              "ticks": ""
             }
            },
            "type": "scattermapbox"
           }
          ],
          "scatterpolar": [
           {
            "marker": {
             "colorbar": {
              "outlinewidth": 0,
              "ticks": ""
             }
            },
            "type": "scatterpolar"
           }
          ],
          "scatterpolargl": [
           {
            "marker": {
             "colorbar": {
              "outlinewidth": 0,
              "ticks": ""
             }
            },
            "type": "scatterpolargl"
           }
          ],
          "scatterternary": [
           {
            "marker": {
             "colorbar": {
              "outlinewidth": 0,
              "ticks": ""
             }
            },
            "type": "scatterternary"
           }
          ],
          "surface": [
           {
            "colorbar": {
             "outlinewidth": 0,
             "ticks": ""
            },
            "colorscale": [
             [
              0,
              "#0d0887"
             ],
             [
              0.1111111111111111,
              "#46039f"
             ],
             [
              0.2222222222222222,
              "#7201a8"
             ],
             [
              0.3333333333333333,
              "#9c179e"
             ],
             [
              0.4444444444444444,
              "#bd3786"
             ],
             [
              0.5555555555555556,
              "#d8576b"
             ],
             [
              0.6666666666666666,
              "#ed7953"
             ],
             [
              0.7777777777777778,
              "#fb9f3a"
             ],
             [
              0.8888888888888888,
              "#fdca26"
             ],
             [
              1,
              "#f0f921"
             ]
            ],
            "type": "surface"
           }
          ],
          "table": [
           {
            "cells": {
             "fill": {
              "color": "#EBF0F8"
             },
             "line": {
              "color": "white"
             }
            },
            "header": {
             "fill": {
              "color": "#C8D4E3"
             },
             "line": {
              "color": "white"
             }
            },
            "type": "table"
           }
          ]
         },
         "layout": {
          "annotationdefaults": {
           "arrowcolor": "#2a3f5f",
           "arrowhead": 0,
           "arrowwidth": 1
          },
          "autotypenumbers": "strict",
          "coloraxis": {
           "colorbar": {
            "outlinewidth": 0,
            "ticks": ""
           }
          },
          "colorscale": {
           "diverging": [
            [
             0,
             "#8e0152"
            ],
            [
             0.1,
             "#c51b7d"
            ],
            [
             0.2,
             "#de77ae"
            ],
            [
             0.3,
             "#f1b6da"
            ],
            [
             0.4,
             "#fde0ef"
            ],
            [
             0.5,
             "#f7f7f7"
            ],
            [
             0.6,
             "#e6f5d0"
            ],
            [
             0.7,
             "#b8e186"
            ],
            [
             0.8,
             "#7fbc41"
            ],
            [
             0.9,
             "#4d9221"
            ],
            [
             1,
             "#276419"
            ]
           ],
           "sequential": [
            [
             0,
             "#0d0887"
            ],
            [
             0.1111111111111111,
             "#46039f"
            ],
            [
             0.2222222222222222,
             "#7201a8"
            ],
            [
             0.3333333333333333,
             "#9c179e"
            ],
            [
             0.4444444444444444,
             "#bd3786"
            ],
            [
             0.5555555555555556,
             "#d8576b"
            ],
            [
             0.6666666666666666,
             "#ed7953"
            ],
            [
             0.7777777777777778,
             "#fb9f3a"
            ],
            [
             0.8888888888888888,
             "#fdca26"
            ],
            [
             1,
             "#f0f921"
            ]
           ],
           "sequentialminus": [
            [
             0,
             "#0d0887"
            ],
            [
             0.1111111111111111,
             "#46039f"
            ],
            [
             0.2222222222222222,
             "#7201a8"
            ],
            [
             0.3333333333333333,
             "#9c179e"
            ],
            [
             0.4444444444444444,
             "#bd3786"
            ],
            [
             0.5555555555555556,
             "#d8576b"
            ],
            [
             0.6666666666666666,
             "#ed7953"
            ],
            [
             0.7777777777777778,
             "#fb9f3a"
            ],
            [
             0.8888888888888888,
             "#fdca26"
            ],
            [
             1,
             "#f0f921"
            ]
           ]
          },
          "colorway": [
           "#636efa",
           "#EF553B",
           "#00cc96",
           "#ab63fa",
           "#FFA15A",
           "#19d3f3",
           "#FF6692",
           "#B6E880",
           "#FF97FF",
           "#FECB52"
          ],
          "font": {
           "color": "#2a3f5f"
          },
          "geo": {
           "bgcolor": "white",
           "lakecolor": "white",
           "landcolor": "#E5ECF6",
           "showlakes": true,
           "showland": true,
           "subunitcolor": "white"
          },
          "hoverlabel": {
           "align": "left"
          },
          "hovermode": "closest",
          "mapbox": {
           "style": "light"
          },
          "paper_bgcolor": "white",
          "plot_bgcolor": "#E5ECF6",
          "polar": {
           "angularaxis": {
            "gridcolor": "white",
            "linecolor": "white",
            "ticks": ""
           },
           "bgcolor": "#E5ECF6",
           "radialaxis": {
            "gridcolor": "white",
            "linecolor": "white",
            "ticks": ""
           }
          },
          "scene": {
           "xaxis": {
            "backgroundcolor": "#E5ECF6",
            "gridcolor": "white",
            "gridwidth": 2,
            "linecolor": "white",
            "showbackground": true,
            "ticks": "",
            "zerolinecolor": "white"
           },
           "yaxis": {
            "backgroundcolor": "#E5ECF6",
            "gridcolor": "white",
            "gridwidth": 2,
            "linecolor": "white",
            "showbackground": true,
            "ticks": "",
            "zerolinecolor": "white"
           },
           "zaxis": {
            "backgroundcolor": "#E5ECF6",
            "gridcolor": "white",
            "gridwidth": 2,
            "linecolor": "white",
            "showbackground": true,
            "ticks": "",
            "zerolinecolor": "white"
           }
          },
          "shapedefaults": {
           "line": {
            "color": "#2a3f5f"
           }
          },
          "ternary": {
           "aaxis": {
            "gridcolor": "white",
            "linecolor": "white",
            "ticks": ""
           },
           "baxis": {
            "gridcolor": "white",
            "linecolor": "white",
            "ticks": ""
           },
           "bgcolor": "#E5ECF6",
           "caxis": {
            "gridcolor": "white",
            "linecolor": "white",
            "ticks": ""
           }
          },
          "title": {
           "x": 0.05
          },
          "xaxis": {
           "automargin": true,
           "gridcolor": "white",
           "linecolor": "white",
           "ticks": "",
           "title": {
            "standoff": 15
           },
           "zerolinecolor": "white",
           "zerolinewidth": 2
          },
          "yaxis": {
           "automargin": true,
           "gridcolor": "white",
           "linecolor": "white",
           "ticks": "",
           "title": {
            "standoff": 15
           },
           "zerolinecolor": "white",
           "zerolinewidth": 2
          }
         }
        },
        "width": 950,
        "xaxis": {
         "anchor": "y",
         "domain": [
          0,
          1
         ],
         "range": [
          -1,
          101
         ],
         "showgrid": false,
         "title": {
          "text": "Percent"
         },
         "visible": true
        },
        "yaxis": {
         "anchor": "x",
         "categoryorder": "total descending",
         "domain": [
          0,
          1
         ],
         "title": {
          "text": "Y"
         },
         "visible": false
        }
       }
      }
     },
     "metadata": {},
     "output_type": "display_data"
    }
   ],
   "source": [
    "#create a dictionary to color each country\n",
    "color_country = dict(zip(list_Depto,pal_))\n",
    "#add a color to the dictionary\n",
    "color_country['Other countries'] = '#b9b9b9'\n",
    "\n",
    "#select countries and add a column to set the Y-axis value\n",
    "df_ = df_select.iloc[0:2,:]\n",
    "df_['Y'] = [1]*len(df_)\n",
    "\n",
    "import plotly.express as px\n",
    "fig = px.scatter(df_, x='Percent', y='Y', color='Label_color',\n",
    "                 text = [str(i)+' %' for i in df_.Percent][0:len(df_)],\n",
    "                 opacity=1,\n",
    "                 color_discrete_map=color_country)\n",
    "\n",
    "fig.update_layout(width = 950, height = 300, plot_bgcolor = 'white',\n",
    "                  margin = dict(t=40, l=20, r=20, b=20),\n",
    "                  yaxis={'categoryorder':'total descending'},\n",
    "                  legend=dict(title='Countries'),\n",
    "                  showlegend=True)\n",
    "\n",
    "for c in list_Depto:\n",
    "    df = df_[df_['Departamento']==c]\n",
    "    fig.add_shape(type=\"line\", layer=\"below\",\n",
    "                  line=dict(color='black', width=6),\n",
    "                  y0=1, x0=list(df_.Percent)[0],\n",
    "                  y1=1, x1=list(df_.Percent)[1])\n",
    "\n",
    "fig.update_traces(textposition='top center', marker={'size':65},\n",
    "                  textfont=dict(color='black'))\n",
    "fig.update_yaxes(visible=False)\n",
    "fig.update_xaxes(visible=True, showgrid =False, range=[-1, 101]) \n",
    "fig.show()"
   ]
  },
  {
   "cell_type": "code",
   "execution_count": 13,
   "metadata": {},
   "outputs": [
    {
     "data": {
      "application/vnd.plotly.v1+json": {
       "config": {
        "plotlyServerURL": "https://plot.ly"
       },
       "data": [
        {
         "hovertemplate": "Label_color=Atlántico<br>Percent=%{x}<br>Departamento=%{y}<br>text=%{text}<extra></extra>",
         "legendgroup": "Atlántico",
         "marker": {
          "color": "#472d7b",
          "opacity": 1,
          "size": 50,
          "symbol": "circle"
         },
         "mode": "markers+text",
         "name": "Atlántico",
         "orientation": "h",
         "showlegend": true,
         "text": [
          "23.9 %"
         ],
         "textfont": {
          "color": "black"
         },
         "textposition": "top center",
         "type": "scatter",
         "x": [
          23.9
         ],
         "xaxis": "x",
         "y": [
          "Atlántico"
         ],
         "yaxis": "y"
        },
        {
         "hovertemplate": "Label_color=Bolívar<br>Percent=%{x}<br>Departamento=%{y}<br>text=%{text}<extra></extra>",
         "legendgroup": "Bolívar",
         "marker": {
          "color": "#addc30",
          "opacity": 1,
          "size": 50,
          "symbol": "circle"
         },
         "mode": "markers+text",
         "name": "Bolívar",
         "orientation": "h",
         "showlegend": true,
         "text": [
          "19.2 %"
         ],
         "textfont": {
          "color": "black"
         },
         "textposition": "top center",
         "type": "scatter",
         "x": [
          19.2
         ],
         "xaxis": "x",
         "y": [
          "Bolívar"
         ],
         "yaxis": "y"
        },
        {
         "hovertemplate": "Label_color=Córdoba<br>Percent=%{x}<br>Departamento=%{y}<br>text=%{text}<extra></extra>",
         "legendgroup": "Córdoba",
         "marker": {
          "color": "#28ae80",
          "opacity": 1,
          "size": 50,
          "symbol": "circle"
         },
         "mode": "markers+text",
         "name": "Córdoba",
         "orientation": "h",
         "showlegend": true,
         "text": [
          "16.1 %"
         ],
         "textfont": {
          "color": "black"
         },
         "textposition": "top center",
         "type": "scatter",
         "x": [
          16.1
         ],
         "xaxis": "x",
         "y": [
          "Córdoba"
         ],
         "yaxis": "y"
        },
        {
         "hovertemplate": "Label_color=Magdalena<br>Percent=%{x}<br>Departamento=%{y}<br>text=%{text}<extra></extra>",
         "legendgroup": "Magdalena",
         "marker": {
          "color": "#21918c",
          "opacity": 1,
          "size": 50,
          "symbol": "circle"
         },
         "mode": "markers+text",
         "name": "Magdalena",
         "orientation": "h",
         "showlegend": true,
         "text": [
          "12.6 %"
         ],
         "textfont": {
          "color": "black"
         },
         "textposition": "top center",
         "type": "scatter",
         "x": [
          12.6
         ],
         "xaxis": "x",
         "y": [
          "Magdalena"
         ],
         "yaxis": "y"
        },
        {
         "hovertemplate": "Label_color=Cesar<br>Percent=%{x}<br>Departamento=%{y}<br>text=%{text}<extra></extra>",
         "legendgroup": "Cesar",
         "marker": {
          "color": "#2c728e",
          "opacity": 1,
          "size": 50,
          "symbol": "circle"
         },
         "mode": "markers+text",
         "name": "Cesar",
         "orientation": "h",
         "showlegend": true,
         "text": [
          "11.4 %"
         ],
         "textfont": {
          "color": "black"
         },
         "textposition": "top center",
         "type": "scatter",
         "x": [
          11.4
         ],
         "xaxis": "x",
         "y": [
          "Cesar"
         ],
         "yaxis": "y"
        },
        {
         "hovertemplate": "Label_color=La Guajira<br>Percent=%{x}<br>Departamento=%{y}<br>text=%{text}<extra></extra>",
         "legendgroup": "La Guajira",
         "marker": {
          "color": "#3b528b",
          "opacity": 1,
          "size": 50,
          "symbol": "circle"
         },
         "mode": "markers+text",
         "name": "La Guajira",
         "orientation": "h",
         "showlegend": true,
         "text": [
          "8.5 %"
         ],
         "textfont": {
          "color": "black"
         },
         "textposition": "top center",
         "type": "scatter",
         "x": [
          8.5
         ],
         "xaxis": "x",
         "y": [
          "La Guajira"
         ],
         "yaxis": "y"
        },
        {
         "hovertemplate": "Label_color=Sucre<br>Percent=%{x}<br>Departamento=%{y}<br>text=%{text}<extra></extra>",
         "legendgroup": "Sucre",
         "marker": {
          "color": "#5ec962",
          "opacity": 1,
          "size": 50,
          "symbol": "circle"
         },
         "mode": "markers+text",
         "name": "Sucre",
         "orientation": "h",
         "showlegend": true,
         "text": [
          "8.3 %"
         ],
         "textfont": {
          "color": "black"
         },
         "textposition": "top center",
         "type": "scatter",
         "x": [
          8.3
         ],
         "xaxis": "x",
         "y": [
          "Sucre"
         ],
         "yaxis": "y"
        },
        {
         "hovertemplate": "Label_color=Other countries<br>Percent=%{x}<br>Departamento=%{y}<br>text=%{text}<extra></extra>",
         "legendgroup": "Other countries",
         "marker": {
          "color": "#b9b9b9",
          "opacity": 1,
          "size": 50,
          "symbol": "circle"
         },
         "mode": "markers+text",
         "name": "Other countries",
         "orientation": "h",
         "showlegend": true,
         "text": [
          "76.1 %",
          "80.8 %",
          "83.9 %",
          "87.4 %",
          "88.6 %",
          "91.5 %",
          "91.7 %"
         ],
         "textfont": {
          "color": "black"
         },
         "textposition": "top center",
         "type": "scatter",
         "x": [
          76.1,
          80.8,
          83.9,
          87.4,
          88.6,
          91.5,
          91.7
         ],
         "xaxis": "x",
         "y": [
          "Atlántico",
          "Bolívar",
          "Córdoba",
          "Magdalena",
          "Cesar",
          "La Guajira",
          "Sucre"
         ],
         "yaxis": "y"
        }
       ],
       "layout": {
        "height": 900,
        "legend": {
         "title": {
          "text": "Countries"
         },
         "tracegroupgap": 0
        },
        "margin": {
         "b": 20,
         "l": 20,
         "r": 20,
         "t": 40
        },
        "plot_bgcolor": "white",
        "shapes": [
         {
          "layer": "below",
          "line": {
           "color": "#472d7b",
           "width": 10
          },
          "type": "line",
          "x0": 23.9,
          "x1": 76.1,
          "y0": "Atlántico",
          "y1": "Atlántico"
         },
         {
          "layer": "below",
          "line": {
           "color": "#3b528b",
           "width": 10
          },
          "type": "line",
          "x0": 8.5,
          "x1": 91.5,
          "y0": "La Guajira",
          "y1": "La Guajira"
         },
         {
          "layer": "below",
          "line": {
           "color": "#2c728e",
           "width": 10
          },
          "type": "line",
          "x0": 11.4,
          "x1": 88.6,
          "y0": "Cesar",
          "y1": "Cesar"
         },
         {
          "layer": "below",
          "line": {
           "color": "#21918c",
           "width": 10
          },
          "type": "line",
          "x0": 12.6,
          "x1": 87.4,
          "y0": "Magdalena",
          "y1": "Magdalena"
         },
         {
          "layer": "below",
          "line": {
           "color": "#28ae80",
           "width": 10
          },
          "type": "line",
          "x0": 16.1,
          "x1": 83.9,
          "y0": "Córdoba",
          "y1": "Córdoba"
         },
         {
          "layer": "below",
          "line": {
           "color": "#5ec962",
           "width": 10
          },
          "type": "line",
          "x0": 8.3,
          "x1": 91.7,
          "y0": "Sucre",
          "y1": "Sucre"
         },
         {
          "layer": "below",
          "line": {
           "color": "#addc30",
           "width": 10
          },
          "type": "line",
          "x0": 19.2,
          "x1": 80.8,
          "y0": "Bolívar",
          "y1": "Bolívar"
         }
        ],
        "showlegend": true,
        "template": {
         "data": {
          "bar": [
           {
            "error_x": {
             "color": "#2a3f5f"
            },
            "error_y": {
             "color": "#2a3f5f"
            },
            "marker": {
             "line": {
              "color": "#E5ECF6",
              "width": 0.5
             },
             "pattern": {
              "fillmode": "overlay",
              "size": 10,
              "solidity": 0.2
             }
            },
            "type": "bar"
           }
          ],
          "barpolar": [
           {
            "marker": {
             "line": {
              "color": "#E5ECF6",
              "width": 0.5
             },
             "pattern": {
              "fillmode": "overlay",
              "size": 10,
              "solidity": 0.2
             }
            },
            "type": "barpolar"
           }
          ],
          "carpet": [
           {
            "aaxis": {
             "endlinecolor": "#2a3f5f",
             "gridcolor": "white",
             "linecolor": "white",
             "minorgridcolor": "white",
             "startlinecolor": "#2a3f5f"
            },
            "baxis": {
             "endlinecolor": "#2a3f5f",
             "gridcolor": "white",
             "linecolor": "white",
             "minorgridcolor": "white",
             "startlinecolor": "#2a3f5f"
            },
            "type": "carpet"
           }
          ],
          "choropleth": [
           {
            "colorbar": {
             "outlinewidth": 0,
             "ticks": ""
            },
            "type": "choropleth"
           }
          ],
          "contour": [
           {
            "colorbar": {
             "outlinewidth": 0,
             "ticks": ""
            },
            "colorscale": [
             [
              0,
              "#0d0887"
             ],
             [
              0.1111111111111111,
              "#46039f"
             ],
             [
              0.2222222222222222,
              "#7201a8"
             ],
             [
              0.3333333333333333,
              "#9c179e"
             ],
             [
              0.4444444444444444,
              "#bd3786"
             ],
             [
              0.5555555555555556,
              "#d8576b"
             ],
             [
              0.6666666666666666,
              "#ed7953"
             ],
             [
              0.7777777777777778,
              "#fb9f3a"
             ],
             [
              0.8888888888888888,
              "#fdca26"
             ],
             [
              1,
              "#f0f921"
             ]
            ],
            "type": "contour"
           }
          ],
          "contourcarpet": [
           {
            "colorbar": {
             "outlinewidth": 0,
             "ticks": ""
            },
            "type": "contourcarpet"
           }
          ],
          "heatmap": [
           {
            "colorbar": {
             "outlinewidth": 0,
             "ticks": ""
            },
            "colorscale": [
             [
              0,
              "#0d0887"
             ],
             [
              0.1111111111111111,
              "#46039f"
             ],
             [
              0.2222222222222222,
              "#7201a8"
             ],
             [
              0.3333333333333333,
              "#9c179e"
             ],
             [
              0.4444444444444444,
              "#bd3786"
             ],
             [
              0.5555555555555556,
              "#d8576b"
             ],
             [
              0.6666666666666666,
              "#ed7953"
             ],
             [
              0.7777777777777778,
              "#fb9f3a"
             ],
             [
              0.8888888888888888,
              "#fdca26"
             ],
             [
              1,
              "#f0f921"
             ]
            ],
            "type": "heatmap"
           }
          ],
          "heatmapgl": [
           {
            "colorbar": {
             "outlinewidth": 0,
             "ticks": ""
            },
            "colorscale": [
             [
              0,
              "#0d0887"
             ],
             [
              0.1111111111111111,
              "#46039f"
             ],
             [
              0.2222222222222222,
              "#7201a8"
             ],
             [
              0.3333333333333333,
              "#9c179e"
             ],
             [
              0.4444444444444444,
              "#bd3786"
             ],
             [
              0.5555555555555556,
              "#d8576b"
             ],
             [
              0.6666666666666666,
              "#ed7953"
             ],
             [
              0.7777777777777778,
              "#fb9f3a"
             ],
             [
              0.8888888888888888,
              "#fdca26"
             ],
             [
              1,
              "#f0f921"
             ]
            ],
            "type": "heatmapgl"
           }
          ],
          "histogram": [
           {
            "marker": {
             "pattern": {
              "fillmode": "overlay",
              "size": 10,
              "solidity": 0.2
             }
            },
            "type": "histogram"
           }
          ],
          "histogram2d": [
           {
            "colorbar": {
             "outlinewidth": 0,
             "ticks": ""
            },
            "colorscale": [
             [
              0,
              "#0d0887"
             ],
             [
              0.1111111111111111,
              "#46039f"
             ],
             [
              0.2222222222222222,
              "#7201a8"
             ],
             [
              0.3333333333333333,
              "#9c179e"
             ],
             [
              0.4444444444444444,
              "#bd3786"
             ],
             [
              0.5555555555555556,
              "#d8576b"
             ],
             [
              0.6666666666666666,
              "#ed7953"
             ],
             [
              0.7777777777777778,
              "#fb9f3a"
             ],
             [
              0.8888888888888888,
              "#fdca26"
             ],
             [
              1,
              "#f0f921"
             ]
            ],
            "type": "histogram2d"
           }
          ],
          "histogram2dcontour": [
           {
            "colorbar": {
             "outlinewidth": 0,
             "ticks": ""
            },
            "colorscale": [
             [
              0,
              "#0d0887"
             ],
             [
              0.1111111111111111,
              "#46039f"
             ],
             [
              0.2222222222222222,
              "#7201a8"
             ],
             [
              0.3333333333333333,
              "#9c179e"
             ],
             [
              0.4444444444444444,
              "#bd3786"
             ],
             [
              0.5555555555555556,
              "#d8576b"
             ],
             [
              0.6666666666666666,
              "#ed7953"
             ],
             [
              0.7777777777777778,
              "#fb9f3a"
             ],
             [
              0.8888888888888888,
              "#fdca26"
             ],
             [
              1,
              "#f0f921"
             ]
            ],
            "type": "histogram2dcontour"
           }
          ],
          "mesh3d": [
           {
            "colorbar": {
             "outlinewidth": 0,
             "ticks": ""
            },
            "type": "mesh3d"
           }
          ],
          "parcoords": [
           {
            "line": {
             "colorbar": {
              "outlinewidth": 0,
              "ticks": ""
             }
            },
            "type": "parcoords"
           }
          ],
          "pie": [
           {
            "automargin": true,
            "type": "pie"
           }
          ],
          "scatter": [
           {
            "fillpattern": {
             "fillmode": "overlay",
             "size": 10,
             "solidity": 0.2
            },
            "type": "scatter"
           }
          ],
          "scatter3d": [
           {
            "line": {
             "colorbar": {
              "outlinewidth": 0,
              "ticks": ""
             }
            },
            "marker": {
             "colorbar": {
              "outlinewidth": 0,
              "ticks": ""
             }
            },
            "type": "scatter3d"
           }
          ],
          "scattercarpet": [
           {
            "marker": {
             "colorbar": {
              "outlinewidth": 0,
              "ticks": ""
             }
            },
            "type": "scattercarpet"
           }
          ],
          "scattergeo": [
           {
            "marker": {
             "colorbar": {
              "outlinewidth": 0,
              "ticks": ""
             }
            },
            "type": "scattergeo"
           }
          ],
          "scattergl": [
           {
            "marker": {
             "colorbar": {
              "outlinewidth": 0,
              "ticks": ""
             }
            },
            "type": "scattergl"
           }
          ],
          "scattermapbox": [
           {
            "marker": {
             "colorbar": {
              "outlinewidth": 0,
              "ticks": ""
             }
            },
            "type": "scattermapbox"
           }
          ],
          "scatterpolar": [
           {
            "marker": {
             "colorbar": {
              "outlinewidth": 0,
              "ticks": ""
             }
            },
            "type": "scatterpolar"
           }
          ],
          "scatterpolargl": [
           {
            "marker": {
             "colorbar": {
              "outlinewidth": 0,
              "ticks": ""
             }
            },
            "type": "scatterpolargl"
           }
          ],
          "scatterternary": [
           {
            "marker": {
             "colorbar": {
              "outlinewidth": 0,
              "ticks": ""
             }
            },
            "type": "scatterternary"
           }
          ],
          "surface": [
           {
            "colorbar": {
             "outlinewidth": 0,
             "ticks": ""
            },
            "colorscale": [
             [
              0,
              "#0d0887"
             ],
             [
              0.1111111111111111,
              "#46039f"
             ],
             [
              0.2222222222222222,
              "#7201a8"
             ],
             [
              0.3333333333333333,
              "#9c179e"
             ],
             [
              0.4444444444444444,
              "#bd3786"
             ],
             [
              0.5555555555555556,
              "#d8576b"
             ],
             [
              0.6666666666666666,
              "#ed7953"
             ],
             [
              0.7777777777777778,
              "#fb9f3a"
             ],
             [
              0.8888888888888888,
              "#fdca26"
             ],
             [
              1,
              "#f0f921"
             ]
            ],
            "type": "surface"
           }
          ],
          "table": [
           {
            "cells": {
             "fill": {
              "color": "#EBF0F8"
             },
             "line": {
              "color": "white"
             }
            },
            "header": {
             "fill": {
              "color": "#C8D4E3"
             },
             "line": {
              "color": "white"
             }
            },
            "type": "table"
           }
          ]
         },
         "layout": {
          "annotationdefaults": {
           "arrowcolor": "#2a3f5f",
           "arrowhead": 0,
           "arrowwidth": 1
          },
          "autotypenumbers": "strict",
          "coloraxis": {
           "colorbar": {
            "outlinewidth": 0,
            "ticks": ""
           }
          },
          "colorscale": {
           "diverging": [
            [
             0,
             "#8e0152"
            ],
            [
             0.1,
             "#c51b7d"
            ],
            [
             0.2,
             "#de77ae"
            ],
            [
             0.3,
             "#f1b6da"
            ],
            [
             0.4,
             "#fde0ef"
            ],
            [
             0.5,
             "#f7f7f7"
            ],
            [
             0.6,
             "#e6f5d0"
            ],
            [
             0.7,
             "#b8e186"
            ],
            [
             0.8,
             "#7fbc41"
            ],
            [
             0.9,
             "#4d9221"
            ],
            [
             1,
             "#276419"
            ]
           ],
           "sequential": [
            [
             0,
             "#0d0887"
            ],
            [
             0.1111111111111111,
             "#46039f"
            ],
            [
             0.2222222222222222,
             "#7201a8"
            ],
            [
             0.3333333333333333,
             "#9c179e"
            ],
            [
             0.4444444444444444,
             "#bd3786"
            ],
            [
             0.5555555555555556,
             "#d8576b"
            ],
            [
             0.6666666666666666,
             "#ed7953"
            ],
            [
             0.7777777777777778,
             "#fb9f3a"
            ],
            [
             0.8888888888888888,
             "#fdca26"
            ],
            [
             1,
             "#f0f921"
            ]
           ],
           "sequentialminus": [
            [
             0,
             "#0d0887"
            ],
            [
             0.1111111111111111,
             "#46039f"
            ],
            [
             0.2222222222222222,
             "#7201a8"
            ],
            [
             0.3333333333333333,
             "#9c179e"
            ],
            [
             0.4444444444444444,
             "#bd3786"
            ],
            [
             0.5555555555555556,
             "#d8576b"
            ],
            [
             0.6666666666666666,
             "#ed7953"
            ],
            [
             0.7777777777777778,
             "#fb9f3a"
            ],
            [
             0.8888888888888888,
             "#fdca26"
            ],
            [
             1,
             "#f0f921"
            ]
           ]
          },
          "colorway": [
           "#636efa",
           "#EF553B",
           "#00cc96",
           "#ab63fa",
           "#FFA15A",
           "#19d3f3",
           "#FF6692",
           "#B6E880",
           "#FF97FF",
           "#FECB52"
          ],
          "font": {
           "color": "#2a3f5f"
          },
          "geo": {
           "bgcolor": "white",
           "lakecolor": "white",
           "landcolor": "#E5ECF6",
           "showlakes": true,
           "showland": true,
           "subunitcolor": "white"
          },
          "hoverlabel": {
           "align": "left"
          },
          "hovermode": "closest",
          "mapbox": {
           "style": "light"
          },
          "paper_bgcolor": "white",
          "plot_bgcolor": "#E5ECF6",
          "polar": {
           "angularaxis": {
            "gridcolor": "white",
            "linecolor": "white",
            "ticks": ""
           },
           "bgcolor": "#E5ECF6",
           "radialaxis": {
            "gridcolor": "white",
            "linecolor": "white",
            "ticks": ""
           }
          },
          "scene": {
           "xaxis": {
            "backgroundcolor": "#E5ECF6",
            "gridcolor": "white",
            "gridwidth": 2,
            "linecolor": "white",
            "showbackground": true,
            "ticks": "",
            "zerolinecolor": "white"
           },
           "yaxis": {
            "backgroundcolor": "#E5ECF6",
            "gridcolor": "white",
            "gridwidth": 2,
            "linecolor": "white",
            "showbackground": true,
            "ticks": "",
            "zerolinecolor": "white"
           },
           "zaxis": {
            "backgroundcolor": "#E5ECF6",
            "gridcolor": "white",
            "gridwidth": 2,
            "linecolor": "white",
            "showbackground": true,
            "ticks": "",
            "zerolinecolor": "white"
           }
          },
          "shapedefaults": {
           "line": {
            "color": "#2a3f5f"
           }
          },
          "ternary": {
           "aaxis": {
            "gridcolor": "white",
            "linecolor": "white",
            "ticks": ""
           },
           "baxis": {
            "gridcolor": "white",
            "linecolor": "white",
            "ticks": ""
           },
           "bgcolor": "#E5ECF6",
           "caxis": {
            "gridcolor": "white",
            "linecolor": "white",
            "ticks": ""
           }
          },
          "title": {
           "x": 0.05
          },
          "xaxis": {
           "automargin": true,
           "gridcolor": "white",
           "linecolor": "white",
           "ticks": "",
           "title": {
            "standoff": 15
           },
           "zerolinecolor": "white",
           "zerolinewidth": 2
          },
          "yaxis": {
           "automargin": true,
           "gridcolor": "white",
           "linecolor": "white",
           "ticks": "",
           "title": {
            "standoff": 15
           },
           "zerolinecolor": "white",
           "zerolinewidth": 2
          }
         }
        },
        "width": 950,
        "xaxis": {
         "anchor": "y",
         "domain": [
          0,
          1
         ],
         "title": {
          "text": "Percent"
         },
         "visible": false
        },
        "yaxis": {
         "anchor": "x",
         "categoryorder": "total descending",
         "domain": [
          0,
          1
         ],
         "showgrid": false,
         "title": {
          "text": ""
         },
         "visible": true
        }
       }
      }
     },
     "metadata": {},
     "output_type": "display_data"
    }
   ],
   "source": [
    "#create a dictionary to color each country\n",
    "color_country = dict(zip(list_Depto,pal_))\n",
    "#add a color to the dictionary\n",
    "color_country['Other countries'] = '#b9b9b9'\n",
    "\n",
    "import plotly.express as px\n",
    "fig = px.scatter(df_db, x='Percent', y='Departamento', color='Label_color',\n",
    "                 text = [str(i)+' %' for i in df_db.Percent],\n",
    "                 opacity=1,\n",
    "                 color_discrete_map=color_country)\n",
    "\n",
    "fig.update_layout(width = 950, height = 900, plot_bgcolor = 'white',\n",
    "                  margin = dict(t=40, l=20, r=20, b=20),\n",
    "                  yaxis={'categoryorder':'total descending'},\n",
    "                  legend=dict(title='Countries'),\n",
    "                  showlegend=True)\n",
    "\n",
    "for c in list_Depto:\n",
    "    df = df_db[df_db['Departamento']==c]\n",
    "    fig.add_shape(type=\"line\", layer=\"below\",\n",
    "                  line=dict(color=color_country.get(c), width=10),\n",
    "                  y0=c, x0=list(df.Percent)[0],\n",
    "                  y1=c, x1=list(df.Percent)[1])\n",
    "\n",
    "fig.update_traces(textposition='top center', marker={'size':50},\n",
    "                  textfont=dict(color='black'))\n",
    "fig.update_yaxes(title='', visible=True, showgrid =False)\n",
    "fig.update_xaxes(visible=False) \n",
    "fig.show()"
   ]
  }
 ],
 "metadata": {
  "kernelspec": {
   "display_name": "Python 3.10.7 64-bit",
   "language": "python",
   "name": "python3"
  },
  "language_info": {
   "codemirror_mode": {
    "name": "ipython",
    "version": 3
   },
   "file_extension": ".py",
   "mimetype": "text/x-python",
   "name": "python",
   "nbconvert_exporter": "python",
   "pygments_lexer": "ipython3",
   "version": "3.10.7"
  },
  "orig_nbformat": 4,
  "vscode": {
   "interpreter": {
    "hash": "8428b73e643d01d0d2525dc7b2d144d7478265925000bb929d4aab60f44017f9"
   }
  }
 },
 "nbformat": 4,
 "nbformat_minor": 2
}
